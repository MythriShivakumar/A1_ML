{
 "cells": [
  {
   "cell_type": "code",
   "execution_count": 1,
   "metadata": {},
   "outputs": [],
   "source": [
    "import numpy as np \n",
    "import matplotlib.pyplot as plt\n",
    "import pandas as pd\n",
    "import seaborn as sns"
   ]
  },
  {
   "cell_type": "code",
   "execution_count": 2,
   "metadata": {},
   "outputs": [
    {
     "name": "stdout",
     "output_type": "stream",
     "text": [
      "       fixed acidity  volatile acidity  citric acid  residual sugar  \\\n",
      "count    6497.000000       6497.000000  6497.000000     6497.000000   \n",
      "mean        7.215307          0.339666     0.318633        5.443235   \n",
      "std         1.296434          0.164636     0.145318        4.757804   \n",
      "min         3.800000          0.080000     0.000000        0.600000   \n",
      "25%         6.400000          0.230000     0.250000        1.800000   \n",
      "50%         7.000000          0.290000     0.310000        3.000000   \n",
      "75%         7.700000          0.400000     0.390000        8.100000   \n",
      "max        15.900000          1.580000     1.660000       65.800000   \n",
      "\n",
      "         chlorides  free sulfur dioxide  total sulfur dioxide      density  \\\n",
      "count  6497.000000          6497.000000           6497.000000  6497.000000   \n",
      "mean      0.056034            30.525319            115.744574     0.994697   \n",
      "std       0.035034            17.749400             56.521855     0.002999   \n",
      "min       0.009000             1.000000              6.000000     0.987110   \n",
      "25%       0.038000            17.000000             77.000000     0.992340   \n",
      "50%       0.047000            29.000000            118.000000     0.994890   \n",
      "75%       0.065000            41.000000            156.000000     0.996990   \n",
      "max       0.611000           289.000000            440.000000     1.038980   \n",
      "\n",
      "                pH    sulphates      alcohol      quality  \n",
      "count  6497.000000  6497.000000  6497.000000  6497.000000  \n",
      "mean      3.218501     0.531268    10.491801     5.818378  \n",
      "std       0.160787     0.148806     1.192712     0.873255  \n",
      "min       2.720000     0.220000     8.000000     3.000000  \n",
      "25%       3.110000     0.430000     9.500000     5.000000  \n",
      "50%       3.210000     0.510000    10.300000     6.000000  \n",
      "75%       3.320000     0.600000    11.300000     6.000000  \n",
      "max       4.010000     2.000000    14.900000     9.000000  \n"
     ]
    }
   ],
   "source": [
    "red_wine = pd.read_csv('noisy_datasets/wine_quality/winequality-red.csv', sep=';')\n",
    "white_wine = pd.read_csv('noisy_datasets/wine_quality/winequality-white.csv', sep=';')\n",
    "red_wine['Wine Type'] = 'Red'\n",
    "white_wine['Wine Type'] = 'White'\n",
    "wine_quality = pd.concat([red_wine, white_wine], ignore_index=True)\n",
    "print(wine_quality.describe())\n"
   ]
  },
  {
   "cell_type": "code",
   "execution_count": 3,
   "metadata": {},
   "outputs": [
    {
     "name": "stdout",
     "output_type": "stream",
     "text": [
      "Missing values:  fixed acidity           0\n",
      "volatile acidity        0\n",
      "citric acid             0\n",
      "residual sugar          0\n",
      "chlorides               0\n",
      "free sulfur dioxide     0\n",
      "total sulfur dioxide    0\n",
      "density                 0\n",
      "pH                      0\n",
      "sulphates               0\n",
      "alcohol                 0\n",
      "quality                 0\n",
      "Wine Type               0\n",
      "dtype: int64\n",
      "As there are no missing values, we do not have to handle it.\n"
     ]
    }
   ],
   "source": [
    "print(\"Missing values: \",wine_quality.isnull().sum())\n",
    "print(\"As there are no missing values, we do not have to handle it.\")"
   ]
  },
  {
   "cell_type": "code",
   "execution_count": 4,
   "metadata": {},
   "outputs": [
    {
     "name": "stdout",
     "output_type": "stream",
     "text": [
      "<class 'pandas.core.frame.DataFrame'>\n",
      "RangeIndex: 6497 entries, 0 to 6496\n",
      "Data columns (total 13 columns):\n",
      " #   Column                Non-Null Count  Dtype  \n",
      "---  ------                --------------  -----  \n",
      " 0   fixed acidity         6497 non-null   float64\n",
      " 1   volatile acidity      6497 non-null   float64\n",
      " 2   citric acid           6497 non-null   float64\n",
      " 3   residual sugar        6497 non-null   float64\n",
      " 4   chlorides             6497 non-null   float64\n",
      " 5   free sulfur dioxide   6497 non-null   float64\n",
      " 6   total sulfur dioxide  6497 non-null   float64\n",
      " 7   density               6497 non-null   float64\n",
      " 8   pH                    6497 non-null   float64\n",
      " 9   sulphates             6497 non-null   float64\n",
      " 10  alcohol               6497 non-null   float64\n",
      " 11  quality               6497 non-null   int64  \n",
      " 12  Wine Type             6497 non-null   object \n",
      "dtypes: float64(11), int64(1), object(1)\n",
      "memory usage: 660.0+ KB\n",
      "None\n",
      "As Wine Type is the only object column which was also entered by us, we know the case will be constant.\n"
     ]
    }
   ],
   "source": [
    "print(wine_quality.info())\n",
    "print(\"As Wine Type is the only object column which was also entered by us, we know the case will be constant.\")"
   ]
  },
  {
   "cell_type": "code",
   "execution_count": 5,
   "metadata": {},
   "outputs": [
    {
     "name": "stdout",
     "output_type": "stream",
     "text": [
      "Outliers count: 1657\n",
      "Since the dataset will be reduced by more than 1600 values, we replace the outliers with the median.\n"
     ]
    }
   ],
   "source": [
    "outlier_indices = []\n",
    "for col in wine_quality.select_dtypes(include=['number']).columns:\n",
    "    Q1 = wine_quality[col].quantile(0.25)\n",
    "    Q3 = wine_quality[col].quantile(0.75)\n",
    "    IQR = Q3 - Q1\n",
    "    lower_bound = Q1 - 1.5 * IQR\n",
    "    upper_bound = Q3 + 1.5 * IQR\n",
    "    outliers = wine_quality[(wine_quality[col] < lower_bound) | (wine_quality[col] > upper_bound)]\n",
    "    outlier_indices.extend(outliers.index)\n",
    "    wine_quality[col] = wine_quality[col].where((wine_quality[col] >= lower_bound) & (wine_quality[col] <= upper_bound), wine_quality[col].median())\n",
    "print(f\"Outliers count: {len(set(outlier_indices))}\")\n",
    "print(\"Since the dataset will be reduced by more than 1600 values, we replace the outliers with the median.\")\n",
    "print(\"\")\n"
   ]
  }
 ],
 "metadata": {
  "kernelspec": {
   "display_name": "workplease",
   "language": "python",
   "name": "python3"
  },
  "language_info": {
   "codemirror_mode": {
    "name": "ipython",
    "version": 3
   },
   "file_extension": ".py",
   "mimetype": "text/x-python",
   "name": "python",
   "nbconvert_exporter": "python",
   "pygments_lexer": "ipython3",
   "version": "3.8.0"
  }
 },
 "nbformat": 4,
 "nbformat_minor": 2
}
