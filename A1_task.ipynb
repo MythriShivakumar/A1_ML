{
 "cells": [
  {
   "cell_type": "code",
   "execution_count": 27,
   "metadata": {},
   "outputs": [],
   "source": [
    "import numpy as np \n",
    "import matplotlib as plt\n",
    "import pandas as pd\n",
    "import seaborn as sns\n",
    "import scipy"
   ]
  },
  {
   "cell_type": "code",
   "execution_count": 49,
   "metadata": {},
   "outputs": [
    {
     "name": "stdout",
     "output_type": "stream",
     "text": [
      "Penguin Data \n",
      "        calorie requirement  average sleep duration  bill_length_mm  \\\n",
      "count           344.000000              344.000000      337.000000   \n",
      "mean           5270.002907               10.447674       45.494214   \n",
      "std            1067.959116                2.265895       10.815787   \n",
      "min            3504.000000                7.000000       32.100000   \n",
      "25%            4403.000000                9.000000       39.500000   \n",
      "50%            5106.500000               10.000000       45.100000   \n",
      "75%            6212.750000               12.000000       49.000000   \n",
      "max            7197.000000               14.000000      124.300000   \n",
      "\n",
      "       bill_depth_mm  flipper_length_mm  body_mass_g         year  \n",
      "count     333.000000         336.000000   339.000000   342.000000  \n",
      "mean       18.018318         197.764881  4175.463127  2008.035088  \n",
      "std         9.241384          27.764491   858.713267     0.816938  \n",
      "min        13.100000          10.000000   882.000000  2007.000000  \n",
      "25%        15.700000         190.000000  3550.000000  2007.000000  \n",
      "50%        17.300000         197.000000  4050.000000  2008.000000  \n",
      "75%        18.700000         213.000000  4750.000000  2009.000000  \n",
      "max       127.260000         231.000000  6300.000000  2009.000000  \n",
      "\n",
      "Diamond Data \n",
      "        average us salary  number of diamonds mined (millions)\n",
      "count       53940.000000                         53940.000000\n",
      "mean        39521.990100                             2.902669\n",
      "std          5486.892971                             1.325985\n",
      "min         30000.000000                             0.600000\n",
      "25%         34780.000000                             1.750000\n",
      "50%         39547.500000                             2.910000\n",
      "75%         44252.000000                             4.050000\n",
      "max         48999.000000                             5.200000\n",
      "\n",
      "Epicurious Dataset\n",
      "        total ingredient cost (usd)  restaurant price (usd)\n",
      "count                 20052.000000            20052.000000\n",
      "mean                     20.037888               46.807451\n",
      "std                       8.689649               18.814625\n",
      "min                       5.000000               15.000000\n",
      "25%                      12.480000               31.000000\n",
      "50%                      20.015000               47.000000\n",
      "75%                      27.600000               63.000000\n",
      "max                      35.000000               79.000000\n"
     ]
    }
   ],
   "source": [
    "penguins_df = pd.read_csv(\"noisy_datasets/penguins.csv\")\n",
    "diamonds_df = pd.read_csv(\"noisy_datasets/diamond.csv\")\n",
    "epicurious_df = pd.read_csv(\"noisy_datasets/epicurious.csv\")\n",
    "\n",
    "print(\"Penguin Data \\n\", penguins_df.describe())\n",
    "print(\"\\nDiamond Data \\n\", diamonds_df.describe())\n",
    "print(\"\\nEpicurious Dataset\\n\", epicurious_df.describe())"
   ]
  },
  {
   "cell_type": "code",
   "execution_count": 51,
   "metadata": {},
   "outputs": [
    {
     "name": "stdout",
     "output_type": "stream",
     "text": [
      "0\n",
      "0\n"
     ]
    }
   ],
   "source": [
    "penguins_df = penguins_df.dropna(subset=['species', 'island', 'gender'])\n",
    "penguins_df = penguins_df.fillna(penguins_df.select_dtypes(include='number').mean())\n",
    "penguins_df[['species', 'island', 'gender']] = penguins_df[['species', 'island', 'gender']].applymap(str.lower)\n",
    "z = np.abs(scipy.stats.zscore(penguins_df['calorie requirement']))\n",
    "z = np.abs(scipy.stats.zscore(penguins_df['average sleep duration']))\n",
    "threshold = 1.6\n",
    "outliers_cr = penguins_df['calorie requirement'][z > threshold]\n",
    "outliers_asd = penguins_df['average sleep duration'][z > threshold]\n",
    "outliers_bl = penguins_df['bill_length_mm'][z > threshold]\n",
    "outliers_bd = penguins_df['bill_depth_mm'][z > threshold]\n",
    "outliers_fl = penguins_df['flipper_length_mm'][z > threshold]\n",
    "outliers_bm = penguins_df['body_mass_g'][z > threshold]\n",
    "print(outliers_cr.count())\n",
    "print(outliers_asd.count())\n"
   ]
  }
 ],
 "metadata": {
  "kernelspec": {
   "display_name": "workplease",
   "language": "python",
   "name": "python3"
  },
  "language_info": {
   "codemirror_mode": {
    "name": "ipython",
    "version": 3
   },
   "file_extension": ".py",
   "mimetype": "text/x-python",
   "name": "python",
   "nbconvert_exporter": "python",
   "pygments_lexer": "ipython3",
   "version": "3.8.0"
  }
 },
 "nbformat": 4,
 "nbformat_minor": 2
}
