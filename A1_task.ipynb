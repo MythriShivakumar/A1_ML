{
 "cells": [
  {
   "cell_type": "code",
   "execution_count": 47,
   "metadata": {},
   "outputs": [],
   "source": [
    "import numpy as np \n",
    "import matplotlib as plt\n",
    "import pandas as pd\n",
    "import seaborn as sns\n",
    "import scipy"
   ]
  },
  {
   "cell_type": "code",
   "execution_count": null,
   "metadata": {},
   "outputs": [],
   "source": [
    "penguins_df = pd.read_csv(\"noisy_datasets/penguins.csv\")\n",
    "diamonds_df = pd.read_csv(\"noisy_datasets/diamond.csv\")\n",
    "epicurious_df = pd.read_csv(\"noisy_datasets/epicurious.csv\")\n",
    "\n",
    "print(\"Penguin Data \\n\", penguins_df.describe())\n",
    "print(\"\\nDiamond Data \\n\", diamonds_df.describe())\n",
    "print(\"\\nEpicurious Dataset\\n\", epicurious_df.describe())"
   ]
  },
  {
   "cell_type": "code",
   "execution_count": null,
   "metadata": {},
   "outputs": [],
   "source": []
  },
  {
   "cell_type": "code",
   "execution_count": null,
   "metadata": {},
   "outputs": [],
   "source": [
    "\n"
   ]
  },
  {
   "cell_type": "code",
   "execution_count": null,
   "metadata": {},
   "outputs": [],
   "source": []
  },
  {
   "cell_type": "code",
   "execution_count": null,
   "metadata": {},
   "outputs": [],
   "source": []
  },
  {
   "cell_type": "code",
   "execution_count": null,
   "metadata": {},
   "outputs": [],
   "source": []
  },
  {
   "cell_type": "code",
   "execution_count": null,
   "metadata": {},
   "outputs": [],
   "source": []
  },
  {
   "cell_type": "code",
   "execution_count": null,
   "metadata": {},
   "outputs": [],
   "source": []
  },
  {
   "cell_type": "code",
   "execution_count": null,
   "metadata": {},
   "outputs": [],
   "source": []
  },
  {
   "cell_type": "code",
   "execution_count": null,
   "metadata": {},
   "outputs": [],
   "source": []
  },
  {
   "cell_type": "code",
   "execution_count": null,
   "metadata": {},
   "outputs": [],
   "source": [
    "print(\"Shape of diamonds dataset before dropping na values: \",diamonds_df.shape)\n",
    "diamonds_df = diamonds_df.dropna()\n",
    "print(\"Shape of diamonds dataset after dropping na values: \",diamonds_df.shape)"
   ]
  },
  {
   "cell_type": "code",
   "execution_count": null,
   "metadata": {},
   "outputs": [],
   "source": [
    "# Converting the string values in numerical columns to NA and dropping the rows\n",
    "num_cols = ['Unnamed: 0', 'carat', 'average us salary', 'number of diamonds mined (millions)', 'depth',\t'table', 'price', 'x', 'y', 'z']\n",
    "for cols in num_cols:\n",
    "    diamonds_df[cols] = pd.to_numeric(diamonds_df[cols], errors = 'coerce')\n",
    "diamonds_df = diamonds_df.dropna()\n",
    "print(\"Shape of diamonds dataset after dropping na values: \",diamonds_df.shape)"
   ]
  },
  {
   "cell_type": "code",
   "execution_count": null,
   "metadata": {},
   "outputs": [],
   "source": [
    "print(diamonds_df.isnull().sum())\n",
    "# No missing values in the dataset is found\n",
    "string_cols = []\n",
    "for cols in diamonds_df.columns:\n",
    "    if diamonds_df[cols].dtype == 'object':\n",
    "        string_cols.append(cols)\n",
    "# Converting values of all columns with object datatype to lowercase\n",
    "diamonds_df[string_cols] = diamonds_df[string_cols].apply(lambda x: x.str.lower())\n",
    "diamonds_df"
   ]
  },
  {
   "cell_type": "code",
   "execution_count": null,
   "metadata": {},
   "outputs": [],
   "source": [
    "# detecting outliers and replacing them with the median of the column\n",
    "diamond_df_cols = ['carat', 'average us salary', 'number of diamonds mined (millions)', 'depth', 'table', \n",
    "       'price', 'x', 'y', 'z']\n",
    "\n",
    "for cols in diamond_df_cols:\n",
    "    if diamonds_df[cols].dtype != 'object':\n",
    "        q1 = diamonds_df[cols].quantile(0.25)\n",
    "        q3 = diamonds_df[cols].quantile(0.75)\n",
    "        iqr = q3 - q1\n",
    "        lb = q1 - 1.5*iqr\n",
    "        ub = q3 + 1.5*iqr\n",
    "        outliers = diamonds_df[(diamonds_df[cols] < lb) | (diamonds_df[cols] > ub)]\n",
    "        print(f\"Outliers of Column {cols}: \", outliers)\n",
    "        if not outliers.empty:\n",
    "            median1 = diamonds_df[cols].median()\n",
    "            diamonds_df[cols] = diamonds_df[cols].apply(lambda x: median1 if (x < lb or x > ub) else x)\n",
    "print('Diamonds datset after replacing outliers with median values: ', diamonds_df.head(10))"
   ]
  },
  {
   "cell_type": "code",
   "execution_count": null,
   "metadata": {},
   "outputs": [],
   "source": []
  }
 ],
 "metadata": {
  "kernelspec": {
   "display_name": "workplease",
   "language": "python",
   "name": "python3"
  },
  "language_info": {
   "codemirror_mode": {
    "name": "ipython",
    "version": 3
   },
   "file_extension": ".py",
   "mimetype": "text/x-python",
   "name": "python",
   "nbconvert_exporter": "python",
   "pygments_lexer": "ipython3",
   "version": "3.12.4"
  }
 },
 "nbformat": 4,
 "nbformat_minor": 2
}
