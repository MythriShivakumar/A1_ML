{
 "cells": [
  {
   "cell_type": "code",
   "execution_count": 21,
   "metadata": {},
   "outputs": [],
   "source": [
    "import numpy as np \n",
    "import matplotlib.pyplot as plt\n",
    "import pandas as pd\n",
    "import seaborn as sns"
   ]
  },
  {
   "cell_type": "code",
   "execution_count": null,
   "metadata": {},
   "outputs": [],
   "source": [
    "penguins_df = pd.read_csv(\"noisy_datasets/penguins.csv\")\n",
    "diamonds_df = pd.read_csv(\"noisy_datasets/diamond.csv\")\n",
    "epicurious_df = pd.read_csv(\"noisy_datasets/epicurious.csv\")\n",
    "\n",
    "print(\"Penguin Data \\n\", penguins_df.describe())\n",
    "print(\"\\nDiamond Data \\n\", diamonds_df.describe())\n",
    "print(\"\\nEpicurious Dataset\\n\", epicurious_df.describe())"
   ]
  },
  {
   "cell_type": "code",
   "execution_count": null,
   "metadata": {},
   "outputs": [],
   "source": [
    "penguins_df.info()\n",
    "penguins_df = penguins_df.dropna(subset=['species', 'island', 'gender'])\n",
    "penguins_df = penguins_df.fillna(penguins_df.select_dtypes(include='number').mean())\n",
    "penguins_df[['species', 'island', 'gender']] = penguins_df[['species', 'island', 'gender']].applymap(str.lower)\n",
    "penguins_df = penguins_df.dropna(subset=['species', 'island', 'gender'])\n",
    "penguins_df = penguins_df.fillna(penguins_df.select_dtypes(include='number').mean())\n",
    "penguins_df[['species', 'island', 'gender']] = penguins_df[['species', 'island', 'gender']].applymap(str.lower)\n",
    "Q1 = penguins_df.quantile(0.25)\n",
    "Q3 = penguins_df.quantile(0.75)\n",
    "IQR = Q3 - Q1\n",
    "outliers = (penguins_df < (Q1 - 1.5 * IQR)) | (penguins_df > (Q3 + 1.5 * IQR))\n",
    "for column in penguins_df.select_dtypes(include='number').columns:\n",
    "    penguins_df[column] = penguins_df[column].where(~outliers[column], penguins_df[column].median())\n"
   ]
  },
  {
   "cell_type": "code",
   "execution_count": null,
   "metadata": {},
   "outputs": [],
   "source": [
    "plt.figure(figsize=(10, 6))\n",
    "sns.barplot(x='gender', y='body_mass_g', data=penguins_df, estimator=np.mean, palette='muted')\n",
    "plt.title('Average Body Mass Distribution by Gender')\n",
    "plt.xlabel('Gender')\n",
    "plt.ylabel('Average Body Mass (g)')\n",
    "plt.show()"
   ]
  },
  {
   "cell_type": "code",
   "execution_count": null,
   "metadata": {},
   "outputs": [],
   "source": [
    "plt.figure(figsize=(10, 6))\n",
    "sns.barplot(x='species', y='bill_length_mm', data=penguins_df, estimator=np.mean, palette='muted')\n",
    "plt.title('Average Bill Length by Species')\n",
    "plt.xlabel('Species')\n",
    "plt.ylabel('Average Bill Length (mm)')\n",
    "plt.xticks(rotation=45)\n",
    "plt.show()\n"
   ]
  },
  {
   "cell_type": "code",
   "execution_count": null,
   "metadata": {},
   "outputs": [],
   "source": [
    "plt.figure(figsize=(10, 6))\n",
    "sns.boxplot(x='species', y='calorie requirement', data=penguins_df, palette='muted')\n",
    "plt.title('Calorie Requirement Distribution by Species')\n",
    "plt.xlabel('Species')\n",
    "plt.ylabel('Calorie Requirement')\n",
    "plt.xticks(rotation=45)\n",
    "plt.show()\n"
   ]
  },
  {
   "cell_type": "code",
   "execution_count": null,
   "metadata": {},
   "outputs": [],
   "source": [
    "plt.figure(figsize=(10, 6))\n",
    "sns.countplot(x='island', hue='gender', data=penguins_df, palette='muted')\n",
    "plt.title('Gender Distribution by Island')\n",
    "plt.xlabel('Island')\n",
    "plt.ylabel('Count')\n",
    "plt.show()\n"
   ]
  },
  {
   "cell_type": "code",
   "execution_count": null,
   "metadata": {},
   "outputs": [],
   "source": [
    "correlation_matrix = penguins_df.corr()\n",
    "plt.figure(figsize=(10, 8))\n",
    "sns.heatmap(correlation_matrix, annot=True)\n",
    "plt.title('Correlation Matrix')\n",
    "plt.show()"
   ]
  },
  {
   "cell_type": "code",
   "execution_count": null,
   "metadata": {},
   "outputs": [],
   "source": [
    "penguins_df = pd.get_dummies(penguins_df, columns=['species', 'island'], drop_first=False)\n",
    "penguins_df['gender_target'] = penguins_df['gender'].map({'female': 0, 'male': 1})\n",
    "correlation_matrix = penguins_df.corr()\n",
    "target_correlation = correlation_matrix['gender_target']\n",
    "print(target_correlation)\n",
    "threshold = 0.1 \n",
    "low_correlation_features = target_correlation[target_correlation.abs() < threshold].index.tolist()\n",
    "penguins_df.drop(columns=low_correlation_features, inplace=True)\n",
    "penguins_df.drop(columns=['gender', 'gender_target'], inplace=True)\n",
    "print('wtf')\n",
    "print(\"op\")"
   ]
  }
 ],
 "metadata": {
  "kernelspec": {
   "display_name": "workplease",
   "language": "python",
   "name": "python3"
  },
  "language_info": {
   "codemirror_mode": {
    "name": "ipython",
    "version": 3
   },
   "file_extension": ".py",
   "mimetype": "text/x-python",
   "name": "python",
   "nbconvert_exporter": "python",
   "pygments_lexer": "ipython3",
   "version": "3.8.0"
  }
 },
 "nbformat": 4,
 "nbformat_minor": 2
}
